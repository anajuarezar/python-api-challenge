{
 "cells": [
  {
   "cell_type": "markdown",
   "metadata": {},
   "source": [
    "# WeatherPy\n",
    "----\n",
    "\n",
    "#### Note\n",
    "* Instructions have been included for each segment. You do not have to follow them exactly, but they are included to help you think through the steps."
   ]
  },
  {
   "cell_type": "code",
   "execution_count": 1,
   "metadata": {
    "scrolled": true
   },
   "outputs": [],
   "source": [
    "# Dependencies and Setup\n",
    "import matplotlib.pyplot as plt\n",
    "import json\n",
    "import pandas as pd\n",
    "import numpy as np\n",
    "import requests\n",
    "import time\n",
    "from scipy.stats import linregress\n",
    "\n",
    "# Import API key\n",
    "from api_keys import weather_api_key\n",
    "\n",
    "# Incorporated citipy to determine city based on latitude and longitude\n",
    "from citipy import citipy\n",
    "\n",
    "# Output File (CSV)\n",
    "output_data_file = \"output_data/cities.csv\"\n",
    "\n",
    "# Range of latitudes and longitudes\n",
    "lat_range = (-90, 90)\n",
    "lng_range = (-180, 180)"
   ]
  },
  {
   "cell_type": "markdown",
   "metadata": {},
   "source": [
    "## Generate Cities List"
   ]
  },
  {
   "cell_type": "code",
   "execution_count": 5,
   "metadata": {},
   "outputs": [
    {
     "data": {
      "text/plain": [
       "587"
      ]
     },
     "execution_count": 5,
     "metadata": {},
     "output_type": "execute_result"
    }
   ],
   "source": [
    "# List for holding lat_lngs and cities\n",
    "lat_lngs = []\n",
    "cities = []\n",
    "\n",
    "# Create a set of random lat and lng combinations\n",
    "lats = np.random.uniform(lat_range[0], lat_range[1], size=1500)\n",
    "lngs = np.random.uniform(lng_range[0], lng_range[1], size=1500)\n",
    "lat_lngs = zip(lats, lngs)\n",
    "\n",
    "# Identify nearest city for each lat, lng combination\n",
    "for lat_lng in lat_lngs:\n",
    "    city = citipy.nearest_city(lat_lng[0], lat_lng[1]).city_name\n",
    "    \n",
    "    # If the city is unique, then add it to a our cities list\n",
    "    if city not in cities:\n",
    "        cities.append(city)\n",
    "\n",
    "# Print the city count to confirm sufficient count\n",
    "len(cities)"
   ]
  },
  {
   "cell_type": "markdown",
   "metadata": {},
   "source": [
    "### Perform API Calls\n",
    "* Perform a weather check on each city using a series of successive API calls.\n",
    "* Include a print log of each city as it'sbeing processed (with the city number and city name).\n"
   ]
  },
  {
   "cell_type": "code",
   "execution_count": 13,
   "metadata": {},
   "outputs": [
    {
     "data": {
      "text/plain": [
       "'http://api.openweathermap.org/data/2.5/weather?appid=a12136626099cd516ec9ca08005ec3bc&units=imperial&q='"
      ]
     },
     "execution_count": 13,
     "metadata": {},
     "output_type": "execute_result"
    }
   ],
   "source": [
    "# Save config information.\n",
    "url = \"http://api.openweathermap.org/data/2.5/weather?\"\n",
    "units = \"imperial\"\n",
    "\n",
    "# Build partial query URL\n",
    "query_url = f\"{url}appid={weather_api_key}&units={units}&q=\"\n",
    "query_url"
   ]
  },
  {
   "cell_type": "code",
   "execution_count": 14,
   "metadata": {},
   "outputs": [
    {
     "name": "stdout",
     "output_type": "stream",
     "text": [
      "{\n",
      "          \"coord\": {\n",
      "                    \"lon\": 172.7902,\n",
      "                    \"lat\": 3.0707\n",
      "          },\n",
      "          \"weather\": [\n",
      "                    {\n",
      "                              \"id\": 801,\n",
      "                              \"main\": \"Clouds\",\n",
      "                              \"description\": \"few clouds\",\n",
      "                              \"icon\": \"02d\"\n",
      "                    }\n",
      "          ],\n",
      "          \"base\": \"stations\",\n",
      "          \"main\": {\n",
      "                    \"temp\": 83.01,\n",
      "                    \"feels_like\": 88.14,\n",
      "                    \"temp_min\": 83.01,\n",
      "                    \"temp_max\": 83.01,\n",
      "                    \"pressure\": 1012,\n",
      "                    \"humidity\": 69,\n",
      "                    \"sea_level\": 1012,\n",
      "                    \"grnd_level\": 1011\n",
      "          },\n",
      "          \"visibility\": 10000,\n",
      "          \"wind\": {\n",
      "                    \"speed\": 9.75,\n",
      "                    \"deg\": 138,\n",
      "                    \"gust\": 9.86\n",
      "          },\n",
      "          \"clouds\": {\n",
      "                    \"all\": 17\n",
      "          },\n",
      "          \"dt\": 1627849353,\n",
      "          \"sys\": {\n",
      "                    \"country\": \"KI\",\n",
      "                    \"sunrise\": 1627842457,\n",
      "                    \"sunset\": 1627886551\n",
      "          },\n",
      "          \"timezone\": 43200,\n",
      "          \"id\": 2110227,\n",
      "          \"name\": \"Butaritari\",\n",
      "          \"cod\": 200\n",
      "}\n"
     ]
    }
   ],
   "source": [
    "# Checking with an example city\n",
    "example_city = \"butaritari\"\n",
    "example_response = requests.get(query_url + example_city).json()\n",
    "print(json.dumps(example_response, indent=10))"
   ]
  },
  {
   "cell_type": "code",
   "execution_count": 19,
   "metadata": {
    "scrolled": true
   },
   "outputs": [
    {
     "name": "stdout",
     "output_type": "stream",
     "text": [
      "Beginning Data Retrieval\n",
      "-------------------------\n",
      "Processing Record 2 of Set 0| chokurdakh\n",
      "Processing Record 3 of Set 0| krasnyy yar\n",
      "Processing Record 4 of Set 0| inuvik\n",
      "Processing Record 5 of Set 0| vaini\n",
      "Processing Record 6 of Set 0| roma\n",
      "Processing Record 7 of Set 0| puerto ayora\n",
      "Processing Record 8 of Set 0| punta arenas\n",
      "Processing Record 9 of Set 0| musoma\n",
      "Processing Record 10 of Set 0| georgetown\n",
      "Processing Record 11 of Set 0| tasiilaq\n",
      "Processing Record 12 of Set 0| dikson\n",
      "Processing Record 13 of Set 0| shablykino\n",
      "Processing Record 14 of Set 0| gigmoto\n",
      "Processing Record 15 of Set 0| mwene-ditu\n",
      "Processing Record 16 of Set 0| hasaki\n",
      "Processing Record 17 of Set 0| rikitea\n",
      "Processing Record 18 of Set 0| port blair\n",
      "Processing Record 19 of Set 0| ossora\n",
      "Processing Record 20 of Set 0| airai\n",
      "Processing Record 21 of Set 0| college\n",
      "City not found. Skipping...\n",
      "Processing Record 23 of Set 0| hobart\n",
      "Processing Record 24 of Set 0| north bend\n",
      "Processing Record 25 of Set 0| souillac\n",
      "Processing Record 26 of Set 0| mar del plata\n",
      "Processing Record 27 of Set 0| banda aceh\n",
      "Processing Record 28 of Set 0| ishigaki\n",
      "Processing Record 29 of Set 0| gorontalo\n",
      "Processing Record 30 of Set 0| milford\n",
      "Processing Record 31 of Set 0| busselton\n",
      "Processing Record 32 of Set 0| bonavista\n",
      "Processing Record 33 of Set 0| port alfred\n",
      "City not found. Skipping...\n",
      "Processing Record 35 of Set 0| richards bay\n",
      "Processing Record 36 of Set 0| atuona\n",
      "City not found. Skipping...\n",
      "Processing Record 38 of Set 0| ponta do sol\n",
      "Processing Record 39 of Set 0| new norfolk\n",
      "Processing Record 40 of Set 0| kintinku\n",
      "Processing Record 41 of Set 0| tuatapere\n",
      "City not found. Skipping...\n",
      "City not found. Skipping...\n",
      "Processing Record 44 of Set 0| castro\n",
      "Processing Record 45 of Set 0| arman\n",
      "Processing Record 46 of Set 0| selizharovo\n",
      "Processing Record 47 of Set 0| bredasdorp\n",
      "Processing Record 48 of Set 0| cape town\n",
      "City not found. Skipping...\n",
      "City not found. Skipping...\n",
      "Processing Record 1 of Set 1| menomonie\n",
      "City not found. Skipping...\n",
      "Processing Record 3 of Set 1| umm kaddadah\n",
      "Processing Record 4 of Set 1| hami\n",
      "Processing Record 5 of Set 1| bahia honda\n",
      "Processing Record 6 of Set 1| ust-omchug\n",
      "Processing Record 7 of Set 1| lebu\n",
      "Processing Record 8 of Set 1| barrow\n",
      "Processing Record 9 of Set 1| nelson bay\n",
      "Processing Record 10 of Set 1| mandalgovi\n",
      "Processing Record 11 of Set 1| comodoro rivadavia\n",
      "Processing Record 12 of Set 1| bethanien\n",
      "Processing Record 13 of Set 1| san cristobal\n",
      "Processing Record 14 of Set 1| ushuaia\n",
      "Processing Record 15 of Set 1| albany\n",
      "Processing Record 16 of Set 1| broken hill\n",
      "City not found. Skipping...\n",
      "Processing Record 18 of Set 1| vestnes\n",
      "Processing Record 19 of Set 1| longyearbyen\n",
      "Processing Record 20 of Set 1| quatre cocos\n",
      "Processing Record 21 of Set 1| bluff\n",
      "Processing Record 22 of Set 1| upernavik\n",
      "City not found. Skipping...\n",
      "Processing Record 24 of Set 1| butaritari\n",
      "Processing Record 25 of Set 1| sur\n",
      "Processing Record 26 of Set 1| vardo\n",
      "Processing Record 27 of Set 1| matagami\n",
      "Processing Record 28 of Set 1| kapaa\n",
      "Processing Record 29 of Set 1| inhambane\n",
      "Processing Record 30 of Set 1| kruisfontein\n",
      "Processing Record 31 of Set 1| eidfjord\n",
      "Processing Record 32 of Set 1| denia\n",
      "Processing Record 33 of Set 1| bambous virieux\n",
      "Processing Record 34 of Set 1| nemuro\n",
      "Processing Record 35 of Set 1| koungou\n",
      "Processing Record 36 of Set 1| marsa matruh\n",
      "Processing Record 37 of Set 1| hithadhoo\n",
      "Processing Record 38 of Set 1| saint george\n",
      "Processing Record 39 of Set 1| lagoa\n",
      "City not found. Skipping...\n",
      "Processing Record 41 of Set 1| soloneshnoye\n",
      "Processing Record 42 of Set 1| jamestown\n",
      "Processing Record 43 of Set 1| seoul\n",
      "Processing Record 44 of Set 1| hermanus\n",
      "Processing Record 45 of Set 1| arlit\n",
      "Processing Record 46 of Set 1| saskylakh\n",
      "City not found. Skipping...\n",
      "Processing Record 48 of Set 1| neuquen\n",
      "Processing Record 49 of Set 1| kintampo\n",
      "Processing Record 50 of Set 1| sisophon\n",
      "Processing Record 1 of Set 2| canico\n",
      "Processing Record 2 of Set 2| tuktoyaktuk\n",
      "Processing Record 3 of Set 2| strelka\n",
      "Processing Record 4 of Set 2| chuy\n",
      "Processing Record 5 of Set 2| ribeira grande\n",
      "Processing Record 6 of Set 2| yellowknife\n",
      "Processing Record 7 of Set 2| carutapera\n",
      "Processing Record 8 of Set 2| jalu\n",
      "Processing Record 9 of Set 2| talnakh\n",
      "Processing Record 10 of Set 2| jumla\n",
      "Processing Record 11 of Set 2| churapcha\n",
      "Processing Record 12 of Set 2| kushmurun\n",
      "Processing Record 13 of Set 2| iqaluit\n",
      "Processing Record 14 of Set 2| hirara\n",
      "Processing Record 15 of Set 2| igarka\n",
      "Processing Record 16 of Set 2| amga\n",
      "Processing Record 17 of Set 2| nikolskoye\n",
      "Processing Record 18 of Set 2| yuci\n",
      "Processing Record 19 of Set 2| fort nelson\n",
      "Processing Record 20 of Set 2| aleksandrovsk-sakhalinskiy\n",
      "Processing Record 21 of Set 2| mount gambier\n",
      "Processing Record 22 of Set 2| bengkulu\n",
      "Processing Record 23 of Set 2| male\n",
      "City not found. Skipping...\n",
      "Processing Record 25 of Set 2| coahuayana\n",
      "Processing Record 26 of Set 2| kouango\n",
      "Processing Record 27 of Set 2| pangoa\n",
      "Processing Record 28 of Set 2| sault sainte marie\n",
      "Processing Record 29 of Set 2| yumen\n",
      "Processing Record 30 of Set 2| noumea\n",
      "City not found. Skipping...\n",
      "Processing Record 32 of Set 2| kahului\n",
      "Processing Record 33 of Set 2| barcelona\n",
      "Processing Record 34 of Set 2| crotone\n",
      "City not found. Skipping...\n",
      "Processing Record 36 of Set 2| talara\n",
      "Processing Record 37 of Set 2| vilhena\n",
      "Processing Record 38 of Set 2| sechura\n",
      "Processing Record 39 of Set 2| emerald\n",
      "Processing Record 40 of Set 2| nome\n",
      "Processing Record 41 of Set 2| minab\n",
      "Processing Record 42 of Set 2| tiznit\n",
      "Processing Record 43 of Set 2| kleive\n",
      "Processing Record 44 of Set 2| port elizabeth\n",
      "Processing Record 45 of Set 2| labuhan\n",
      "Processing Record 46 of Set 2| rocha\n",
      "Processing Record 47 of Set 2| olafsvik\n",
      "Processing Record 48 of Set 2| victoria\n",
      "Processing Record 49 of Set 2| cherskiy\n",
      "Processing Record 50 of Set 2| marrakesh\n",
      "Processing Record 1 of Set 3| fare\n",
      "Processing Record 2 of Set 3| half moon bay\n",
      "Processing Record 3 of Set 3| mataura\n",
      "Processing Record 4 of Set 3| skjervoy\n",
      "Processing Record 5 of Set 3| san quintin\n",
      "Processing Record 6 of Set 3| tagusao\n",
      "Processing Record 7 of Set 3| faanui\n",
      "Processing Record 8 of Set 3| manta\n",
      "Processing Record 9 of Set 3| tra vinh\n",
      "Processing Record 10 of Set 3| upata\n",
      "Processing Record 11 of Set 3| ilulissat\n",
      "Processing Record 12 of Set 3| mecca\n",
      "Processing Record 13 of Set 3| los llanos de aridane\n",
      "Processing Record 14 of Set 3| parfino\n",
      "Processing Record 15 of Set 3| ketchikan\n",
      "Processing Record 16 of Set 3| ikalamavony\n",
      "Processing Record 17 of Set 3| severo-kurilsk\n",
      "Processing Record 18 of Set 3| pevek\n",
      "Processing Record 19 of Set 3| teya\n",
      "Processing Record 20 of Set 3| clyde river\n",
      "Processing Record 21 of Set 3| dunedin\n",
      "Processing Record 22 of Set 3| san lawrenz\n",
      "Processing Record 23 of Set 3| kimbe\n",
      "Processing Record 24 of Set 3| alghero\n",
      "City not found. Skipping...\n",
      "Processing Record 26 of Set 3| novyy urgal\n",
      "City not found. Skipping...\n",
      "Processing Record 28 of Set 3| katherine\n",
      "Processing Record 29 of Set 3| saint-philippe\n",
      "Processing Record 30 of Set 3| mount isa\n",
      "Processing Record 31 of Set 3| dharchula\n",
      "Processing Record 32 of Set 3| sioux city\n",
      "Processing Record 33 of Set 3| assiniboia\n",
      "Processing Record 34 of Set 3| bambanglipuro\n",
      "Processing Record 35 of Set 3| puerto concordia\n",
      "Processing Record 36 of Set 3| kuryk\n",
      "Processing Record 37 of Set 3| venice\n",
      "Processing Record 38 of Set 3| la ronge\n",
      "Processing Record 39 of Set 3| hamilton\n",
      "Processing Record 40 of Set 3| kudahuvadhoo\n",
      "Processing Record 41 of Set 3| katsuura\n",
      "Processing Record 42 of Set 3| talcahuano\n",
      "Processing Record 43 of Set 3| torbay\n",
      "Processing Record 44 of Set 3| bonthe\n",
      "Processing Record 45 of Set 3| henderson\n",
      "Processing Record 46 of Set 3| chicama\n",
      "Processing Record 47 of Set 3| chervone\n",
      "Processing Record 48 of Set 3| shingu\n",
      "Processing Record 49 of Set 3| gualaquiza\n",
      "Processing Record 50 of Set 3| hilo\n",
      "Processing Record 1 of Set 4| kurilsk\n",
      "Processing Record 2 of Set 4| caranavi\n",
      "Processing Record 3 of Set 4| sioux lookout\n",
      "Processing Record 4 of Set 4| lavrentiya\n",
      "Processing Record 5 of Set 4| qaanaaq\n",
      "Processing Record 6 of Set 4| thompson\n",
      "City not found. Skipping...\n",
      "City not found. Skipping...\n",
      "Processing Record 9 of Set 4| provideniya\n",
      "Processing Record 10 of Set 4| takoradi\n"
     ]
    },
    {
     "name": "stdout",
     "output_type": "stream",
     "text": [
      "Processing Record 11 of Set 4| taguatinga\n",
      "Processing Record 12 of Set 4| kuopio\n",
      "Processing Record 13 of Set 4| flin flon\n",
      "Processing Record 14 of Set 4| kortkeros\n",
      "Processing Record 15 of Set 4| cockburn town\n",
      "Processing Record 16 of Set 4| luderitz\n",
      "Processing Record 17 of Set 4| norrtalje\n",
      "Processing Record 18 of Set 4| pingliang\n",
      "Processing Record 19 of Set 4| yeppoon\n",
      "Processing Record 20 of Set 4| constitucion\n",
      "Processing Record 21 of Set 4| east london\n",
      "Processing Record 22 of Set 4| kaitangata\n",
      "Processing Record 23 of Set 4| eyl\n",
      "Processing Record 24 of Set 4| sao filipe\n",
      "Processing Record 25 of Set 4| san patricio\n",
      "Processing Record 26 of Set 4| lasa\n",
      "Processing Record 27 of Set 4| kirakira\n",
      "Processing Record 28 of Set 4| jacmel\n",
      "Processing Record 29 of Set 4| arraial do cabo\n",
      "Processing Record 30 of Set 4| komsomolskoye\n",
      "Processing Record 31 of Set 4| conneaut\n",
      "City not found. Skipping...\n",
      "Processing Record 33 of Set 4| pisco\n",
      "Processing Record 34 of Set 4| clovis\n",
      "Processing Record 35 of Set 4| kodiak\n",
      "Processing Record 36 of Set 4| margherita\n",
      "Processing Record 37 of Set 4| deputatskiy\n",
      "Processing Record 38 of Set 4| bogalusa\n",
      "Processing Record 39 of Set 4| esperance\n",
      "Processing Record 40 of Set 4| vila franca do campo\n",
      "Processing Record 41 of Set 4| kupang\n",
      "Processing Record 42 of Set 4| saint-pierre\n",
      "Processing Record 43 of Set 4| kuznetsk\n",
      "Processing Record 44 of Set 4| novobiryusinskiy\n",
      "Processing Record 45 of Set 4| savannah bight\n",
      "Processing Record 46 of Set 4| la maddalena\n",
      "Processing Record 47 of Set 4| ahipara\n",
      "Processing Record 48 of Set 4| guerrero negro\n",
      "Processing Record 49 of Set 4| makakilo city\n",
      "Processing Record 50 of Set 4| elizabeth city\n",
      "Processing Record 1 of Set 5| lompoc\n",
      "Processing Record 2 of Set 5| bethel\n",
      "Processing Record 3 of Set 5| ostrovnoy\n",
      "Processing Record 4 of Set 5| nawalgarh\n",
      "Processing Record 5 of Set 5| yantzaza\n",
      "Processing Record 6 of Set 5| luanda\n",
      "Processing Record 7 of Set 5| ruwi\n",
      "Processing Record 8 of Set 5| narsaq\n",
      "Processing Record 9 of Set 5| ahuimanu\n",
      "Processing Record 10 of Set 5| la rioja\n",
      "Processing Record 11 of Set 5| stornoway\n",
      "Processing Record 12 of Set 5| termiz\n",
      "Processing Record 13 of Set 5| sukhobuzimskoye\n",
      "Processing Record 14 of Set 5| miri\n",
      "City not found. Skipping...\n",
      "Processing Record 16 of Set 5| fairbanks\n",
      "Processing Record 17 of Set 5| mahebourg\n",
      "Processing Record 18 of Set 5| tiksi\n",
      "Processing Record 19 of Set 5| navahrudak\n",
      "City not found. Skipping...\n",
      "Processing Record 21 of Set 5| portland\n",
      "City not found. Skipping...\n",
      "City not found. Skipping...\n",
      "Processing Record 24 of Set 5| avarua\n",
      "Processing Record 25 of Set 5| naron\n",
      "Processing Record 26 of Set 5| nevinnomyssk\n",
      "Processing Record 27 of Set 5| lehola\n",
      "Processing Record 28 of Set 5| saint-ambroise\n",
      "Processing Record 29 of Set 5| zyryanka\n",
      "Processing Record 30 of Set 5| nokaneng\n",
      "Processing Record 31 of Set 5| norman wells\n",
      "Processing Record 32 of Set 5| kaeo\n",
      "Processing Record 33 of Set 5| watsa\n",
      "Processing Record 34 of Set 5| isangel\n",
      "Processing Record 35 of Set 5| nanortalik\n",
      "Processing Record 36 of Set 5| seydi\n",
      "Processing Record 37 of Set 5| kavaratti\n",
      "City not found. Skipping...\n",
      "Processing Record 39 of Set 5| belaya gora\n",
      "Processing Record 40 of Set 5| paita\n",
      "Processing Record 41 of Set 5| carnarvon\n",
      "Processing Record 42 of Set 5| ust-nera\n",
      "Processing Record 43 of Set 5| cabedelo\n",
      "Processing Record 44 of Set 5| belyy yar\n",
      "Processing Record 45 of Set 5| santa maria\n",
      "Processing Record 46 of Set 5| sayyan\n",
      "Processing Record 47 of Set 5| buseresere\n",
      "Processing Record 48 of Set 5| beringovskiy\n",
      "Processing Record 49 of Set 5| yate\n",
      "Processing Record 50 of Set 5| asau\n",
      "Processing Record 1 of Set 6| sitka\n",
      "Processing Record 2 of Set 6| sambava\n",
      "Processing Record 3 of Set 6| iquique\n",
      "Processing Record 4 of Set 6| goure\n",
      "Processing Record 5 of Set 6| dali\n",
      "Processing Record 6 of Set 6| fuerte\n",
      "Processing Record 7 of Set 6| aden\n",
      "Processing Record 8 of Set 6| sibu\n",
      "City not found. Skipping...\n",
      "Processing Record 10 of Set 6| praia da vitoria\n",
      "Processing Record 11 of Set 6| namatanai\n",
      "Processing Record 12 of Set 6| kaka\n",
      "Processing Record 13 of Set 6| loreto\n",
      "Processing Record 14 of Set 6| yingcheng\n",
      "Processing Record 15 of Set 6| chifeng\n",
      "Processing Record 16 of Set 6| walvis bay\n",
      "Processing Record 17 of Set 6| formosa\n",
      "Processing Record 18 of Set 6| buarcos\n",
      "Processing Record 19 of Set 6| meulaboh\n",
      "City not found. Skipping...\n",
      "Processing Record 21 of Set 6| agadez\n",
      "Processing Record 22 of Set 6| taoudenni\n",
      "Processing Record 23 of Set 6| andra\n",
      "Processing Record 24 of Set 6| port-cartier\n",
      "Processing Record 25 of Set 6| altay\n",
      "Processing Record 26 of Set 6| pangkalanbuun\n",
      "Processing Record 27 of Set 6| omboue\n",
      "Processing Record 28 of Set 6| rawson\n",
      "Processing Record 29 of Set 6| mao\n",
      "City not found. Skipping...\n",
      "Processing Record 31 of Set 6| klaksvik\n",
      "Processing Record 32 of Set 6| astoria\n",
      "Processing Record 33 of Set 6| areka\n",
      "Processing Record 34 of Set 6| shenjiamen\n",
      "Processing Record 35 of Set 6| mae ramat\n",
      "Processing Record 36 of Set 6| codrington\n",
      "City not found. Skipping...\n",
      "Processing Record 38 of Set 6| barentu\n",
      "Processing Record 39 of Set 6| kavieng\n",
      "Processing Record 40 of Set 6| manokwari\n",
      "Processing Record 41 of Set 6| leningradskiy\n",
      "Processing Record 42 of Set 6| ajaccio\n",
      "Processing Record 43 of Set 6| kabanjahe\n",
      "Processing Record 44 of Set 6| buin\n",
      "Processing Record 45 of Set 6| miraflores\n",
      "Processing Record 46 of Set 6| alice springs\n",
      "Processing Record 47 of Set 6| cossato\n",
      "Processing Record 48 of Set 6| tevaitoa\n",
      "Processing Record 49 of Set 6| gryazovets\n",
      "Processing Record 50 of Set 6| zilair\n",
      "Processing Record 1 of Set 7| acapulco\n",
      "Processing Record 2 of Set 7| bodmin\n",
      "Processing Record 3 of Set 7| ancud\n",
      "Processing Record 4 of Set 7| fortuna\n",
      "Processing Record 5 of Set 7| chapais\n",
      "Processing Record 6 of Set 7| punta alta\n",
      "Processing Record 7 of Set 7| konch\n",
      "Processing Record 8 of Set 7| vila\n",
      "Processing Record 9 of Set 7| tartus\n",
      "Processing Record 10 of Set 7| winnemucca\n",
      "Processing Record 11 of Set 7| luganville\n",
      "Processing Record 12 of Set 7| dandong\n",
      "Processing Record 13 of Set 7| saint-francois\n",
      "Processing Record 14 of Set 7| ixtapa\n",
      "Processing Record 15 of Set 7| itarema\n",
      "Processing Record 16 of Set 7| asyut\n",
      "Processing Record 17 of Set 7| hay river\n",
      "Processing Record 18 of Set 7| le port\n",
      "Processing Record 19 of Set 7| piacabucu\n",
      "Processing Record 20 of Set 7| aklavik\n",
      "Processing Record 21 of Set 7| lata\n",
      "Processing Record 22 of Set 7| show low\n",
      "Processing Record 23 of Set 7| cabo rojo\n",
      "Processing Record 24 of Set 7| viedma\n",
      "Processing Record 25 of Set 7| antalaha\n",
      "Processing Record 26 of Set 7| shanhetun\n",
      "Processing Record 27 of Set 7| yankton\n",
      "Processing Record 28 of Set 7| begunitsy\n",
      "Processing Record 29 of Set 7| erdenet\n",
      "City not found. Skipping...\n",
      "Processing Record 31 of Set 7| wakkanai\n",
      "Processing Record 32 of Set 7| khatanga\n",
      "Processing Record 33 of Set 7| tres arroyos\n",
      "City not found. Skipping...\n",
      "Processing Record 35 of Set 7| cabo san lucas\n",
      "Processing Record 36 of Set 7| mackenzie\n",
      "Processing Record 37 of Set 7| dudinka\n",
      "City not found. Skipping...\n",
      "Processing Record 39 of Set 7| sao joao da barra\n",
      "Processing Record 40 of Set 7| baiyin\n",
      "Processing Record 41 of Set 7| bhavani\n",
      "City not found. Skipping...\n",
      "Processing Record 43 of Set 7| vydrino\n",
      "Processing Record 44 of Set 7| huaraz\n",
      "Processing Record 45 of Set 7| duartina\n",
      "Processing Record 46 of Set 7| biak\n",
      "Processing Record 47 of Set 7| liku\n",
      "Processing Record 48 of Set 7| adrar\n",
      "Processing Record 49 of Set 7| kloulklubed\n",
      "Processing Record 50 of Set 7| puerto escondido\n",
      "Processing Record 1 of Set 8| langxiang\n",
      "Processing Record 2 of Set 8| hualmay\n",
      "Processing Record 3 of Set 8| ambon\n",
      "Processing Record 4 of Set 8| orzhytsya\n",
      "Processing Record 5 of Set 8| kayerkan\n",
      "Processing Record 6 of Set 8| cidreira\n",
      "Processing Record 7 of Set 8| nikel\n",
      "Processing Record 8 of Set 8| skierniewice\n",
      "Processing Record 9 of Set 8| paysandu\n",
      "Processing Record 10 of Set 8| mongoumba\n",
      "Processing Record 11 of Set 8| gat\n",
      "Processing Record 12 of Set 8| aldan\n",
      "Processing Record 13 of Set 8| vestmanna\n",
      "Processing Record 14 of Set 8| algiers\n",
      "Processing Record 15 of Set 8| robertsport\n",
      "Processing Record 16 of Set 8| fereydunshahr\n",
      "Processing Record 17 of Set 8| grindavik\n",
      "Processing Record 18 of Set 8| jobabo\n",
      "Processing Record 19 of Set 8| kawalu\n"
     ]
    },
    {
     "name": "stdout",
     "output_type": "stream",
     "text": [
      "Processing Record 20 of Set 8| ambilobe\n",
      "Processing Record 21 of Set 8| hambantota\n",
      "Processing Record 22 of Set 8| okhotsk\n",
      "Processing Record 23 of Set 8| vao\n",
      "Processing Record 24 of Set 8| bukavu\n",
      "Processing Record 25 of Set 8| rundu\n",
      "Processing Record 26 of Set 8| necochea\n",
      "Processing Record 27 of Set 8| uhlove\n",
      "City not found. Skipping...\n",
      "Processing Record 29 of Set 8| winona\n",
      "Processing Record 30 of Set 8| tayshet\n",
      "Processing Record 31 of Set 8| plettenberg bay\n",
      "Processing Record 32 of Set 8| luau\n",
      "Processing Record 33 of Set 8| salalah\n",
      "Processing Record 34 of Set 8| raton\n",
      "Processing Record 35 of Set 8| muleba\n",
      "Processing Record 36 of Set 8| atasu\n",
      "Processing Record 37 of Set 8| lazaro cardenas\n",
      "Processing Record 38 of Set 8| laguna\n",
      "Processing Record 39 of Set 8| lampa\n",
      "Processing Record 40 of Set 8| paramonga\n",
      "Processing Record 41 of Set 8| tual\n",
      "Processing Record 42 of Set 8| riverton\n",
      "Processing Record 43 of Set 8| honiara\n",
      "Processing Record 44 of Set 8| jiwani\n",
      "City not found. Skipping...\n",
      "Processing Record 46 of Set 8| havre-saint-pierre\n",
      "Processing Record 47 of Set 8| lorengau\n",
      "Processing Record 48 of Set 8| bjerkvik\n",
      "Processing Record 49 of Set 8| faya\n",
      "Processing Record 50 of Set 8| wattegama\n",
      "Processing Record 1 of Set 9| mwinilunga\n",
      "Processing Record 2 of Set 9| sisimiut\n",
      "Processing Record 3 of Set 9| mayumba\n",
      "Processing Record 4 of Set 9| tezu\n",
      "Processing Record 5 of Set 9| touros\n",
      "Processing Record 6 of Set 9| mogadishu\n",
      "Processing Record 7 of Set 9| zhigansk\n",
      "Processing Record 8 of Set 9| moscow\n",
      "Processing Record 9 of Set 9| sandwick\n",
      "Processing Record 10 of Set 9| saryozek\n",
      "City not found. Skipping...\n",
      "Processing Record 12 of Set 9| itoman\n",
      "Processing Record 13 of Set 9| buala\n",
      "Processing Record 14 of Set 9| saldanha\n",
      "Processing Record 15 of Set 9| vanavara\n",
      "Processing Record 16 of Set 9| petropavlovsk-kamchatskiy\n",
      "Processing Record 17 of Set 9| kaa-khem\n",
      "Processing Record 18 of Set 9| saveh\n",
      "Processing Record 19 of Set 9| cadolzburg\n",
      "Processing Record 20 of Set 9| kazachinskoye\n",
      "Processing Record 21 of Set 9| tiel\n",
      "City not found. Skipping...\n",
      "Processing Record 23 of Set 9| nalut\n",
      "Processing Record 24 of Set 9| colac\n",
      "Processing Record 25 of Set 9| usinsk\n",
      "Processing Record 26 of Set 9| pindiga\n",
      "Processing Record 27 of Set 9| bahia blanca\n",
      "Processing Record 28 of Set 9| te anau\n",
      "Processing Record 29 of Set 9| tura\n",
      "Processing Record 30 of Set 9| aventura\n",
      "Processing Record 31 of Set 9| padang\n",
      "Processing Record 32 of Set 9| riyadh\n",
      "Processing Record 33 of Set 9| satana\n",
      "Processing Record 34 of Set 9| thinadhoo\n",
      "Processing Record 35 of Set 9| saint-georges\n",
      "Processing Record 36 of Set 9| diamantino\n",
      "Processing Record 37 of Set 9| izumo\n",
      "Processing Record 38 of Set 9| gazanjyk\n",
      "Processing Record 39 of Set 9| abu zabad\n",
      "City not found. Skipping...\n",
      "Processing Record 41 of Set 9| whitehorse\n",
      "Processing Record 42 of Set 9| tallahassee\n",
      "Processing Record 43 of Set 9| saryg-sep\n",
      "Processing Record 44 of Set 9| mutsu\n",
      "City not found. Skipping...\n",
      "Processing Record 46 of Set 9| abrau-dyurso\n",
      "Processing Record 47 of Set 9| rzhanitsa\n",
      "Processing Record 48 of Set 9| sao sebastiao\n",
      "Processing Record 49 of Set 9| lukovetskiy\n",
      "Processing Record 50 of Set 9| kurumkan\n",
      "Processing Record 1 of Set 10| port hardy\n",
      "Processing Record 2 of Set 10| korla\n",
      "Processing Record 3 of Set 10| vila velha\n",
      "Processing Record 4 of Set 10| kambove\n",
      "Processing Record 5 of Set 10| abalak\n",
      "Processing Record 6 of Set 10| novobureyskiy\n",
      "Processing Record 7 of Set 10| nizhniy odes\n",
      "Processing Record 8 of Set 10| haines junction\n",
      "Processing Record 9 of Set 10| komsomolskiy\n",
      "Processing Record 10 of Set 10| hofn\n",
      "Processing Record 11 of Set 10| inongo\n",
      "City not found. Skipping...\n",
      "Processing Record 13 of Set 10| kazanka\n",
      "Processing Record 14 of Set 10| berlevag\n",
      "Processing Record 15 of Set 10| beloha\n",
      "City not found. Skipping...\n",
      "Processing Record 17 of Set 10| karratha\n",
      "Processing Record 18 of Set 10| bucu\n",
      "Processing Record 19 of Set 10| mogocha\n",
      "Processing Record 20 of Set 10| jacqueville\n",
      "Processing Record 21 of Set 10| ust-karsk\n",
      "Processing Record 22 of Set 10| bendigo\n",
      "Processing Record 23 of Set 10| meadow lake\n",
      "City not found. Skipping...\n",
      "Processing Record 25 of Set 10| tilichiki\n",
      "Processing Record 26 of Set 10| yatou\n",
      "Processing Record 27 of Set 10| sinnamary\n",
      "Processing Record 28 of Set 10| cerrito\n",
      "City not found. Skipping...\n",
      "City not found. Skipping...\n",
      "Processing Record 31 of Set 10| tessalit\n",
      "Processing Record 32 of Set 10| atbasar\n",
      "Processing Record 33 of Set 10| dingle\n",
      "Processing Record 34 of Set 10| bilibino\n",
      "Processing Record 35 of Set 10| umuahia\n",
      "Processing Record 36 of Set 10| tholos\n",
      "City not found. Skipping...\n",
      "Processing Record 38 of Set 10| suda\n",
      "Processing Record 39 of Set 10| heinola\n",
      "Processing Record 40 of Set 10| caravelas\n",
      "City not found. Skipping...\n",
      "Processing Record 42 of Set 10| saint-joseph\n",
      "Processing Record 43 of Set 10| karlstad\n",
      "Processing Record 44 of Set 10| khani\n",
      "Processing Record 45 of Set 10| george\n",
      "Processing Record 46 of Set 10| tevriz\n",
      "Processing Record 47 of Set 10| binga\n",
      "Processing Record 48 of Set 10| prince george\n",
      "Processing Record 49 of Set 10| sotnikovo\n",
      "Processing Record 50 of Set 10| redmond\n",
      "Processing Record 1 of Set 11| patacamaya\n",
      "Processing Record 2 of Set 11| salinas\n",
      "Processing Record 3 of Set 11| mastic beach\n",
      "Processing Record 4 of Set 11| mangan\n",
      "Processing Record 5 of Set 11| pemba\n",
      "Processing Record 6 of Set 11| husavik\n",
      "Processing Record 7 of Set 11| chippewa falls\n",
      "Processing Record 8 of Set 11| moyale\n",
      "Processing Record 9 of Set 11| inirida\n",
      "Processing Record 10 of Set 11| hervey bay\n",
      "Processing Record 11 of Set 11| xapuri\n",
      "Processing Record 12 of Set 11| fershampenuaz\n",
      "Processing Record 13 of Set 11| salinopolis\n",
      "Processing Record 14 of Set 11| praia\n",
      "Processing Record 15 of Set 11| quang ngai\n",
      "Processing Record 16 of Set 11| sonoita\n",
      "Processing Record 17 of Set 11| wagar\n",
      "Processing Record 18 of Set 11| maldonado\n",
      "Processing Record 19 of Set 11| yebaishou\n",
      "Processing Record 20 of Set 11| forecariah\n",
      "Processing Record 21 of Set 11| port lincoln\n",
      "Processing Record 22 of Set 11| cartagena del chaira\n",
      "Processing Record 23 of Set 11| roald\n",
      "Processing Record 24 of Set 11| katangli\n",
      "Processing Record 25 of Set 11| amilly\n",
      "Processing Record 26 of Set 11| saint john\n",
      "Processing Record 27 of Set 11| paamiut\n",
      "Processing Record 28 of Set 11| barguzin\n",
      "Processing Record 29 of Set 11| pimentel\n",
      "Processing Record 30 of Set 11| hashtrud\n",
      "Processing Record 31 of Set 11| hobyo\n",
      "Processing Record 32 of Set 11| eisiskes\n",
      "City not found. Skipping...\n",
      "Processing Record 34 of Set 11| lulea\n",
      "Processing Record 35 of Set 11| valparaiso\n",
      "Processing Record 36 of Set 11| caramay\n",
      "City not found. Skipping...\n",
      "Processing Record 38 of Set 11| mhango\n"
     ]
    }
   ],
   "source": [
    "# Loop through the list of cities and perform a request for data on each\n",
    "\n",
    "# We create the empty lists that will contain the values from which we will create the dataframe\n",
    "city_list = []\n",
    "lat = []\n",
    "lng = []\n",
    "max_temp = []\n",
    "humidity = []\n",
    "cloudiness = []\n",
    "wind_speed = []\n",
    "country = []\n",
    "date = []\n",
    "\n",
    "#We set up the Record Number at 0 and the Set value at 1\n",
    "\n",
    "first_val = 0\n",
    "set_value = 1\n",
    "\n",
    "\n",
    "print(\"Beginning Data Retrieval\\n-------------------------\")\n",
    "\n",
    "#We create a loop that will go through all the cities and append the information we will need for the dataframe.\n",
    "# The loop will also add one to the record number\n",
    "\n",
    "for city in cities:\n",
    "    city_query = query_url + city\n",
    "    query_response = requests.get(city_query)\n",
    "    response = query_response.json()\n",
    "    \n",
    "# We use try and except to catch the error of a missing city. \n",
    "    try:\n",
    "        first_val += 1\n",
    "        city_list.append(response[\"name\"])\n",
    "        lat.append(response[\"coord\"][\"lat\"])\n",
    "        lng.append(response[\"coord\"][\"lon\"])\n",
    "        max_temp.append(response[\"main\"][\"temp_max\"])\n",
    "        humidity.append(response[\"main\"][\"humidity\"])\n",
    "        cloudiness.append(response[\"clouds\"][\"all\"])\n",
    "        wind_speed.append(response[\"wind\"][\"speed\"])\n",
    "        country.append(response[\"sys\"][\"country\"])\n",
    "        date.append(response[\"dt\"])\n",
    "        \n",
    "        print(f\"Processing Record {first_val} of Set {set_value}| {city}\")\n",
    "        \n",
    "    except:\n",
    "        \n",
    "        print(\"City not found. Skipping...\")\n",
    "        pass\n",
    "    \n",
    "# To make the set value, we need to use if so once the record gets to 50 it will add one the the set\n",
    "# and start at zero again. \n",
    "\n",
    "    if first_val == 50:\n",
    "        set_value += 1\n",
    "        first_val = 0 \n",
    "        time.sleep(5)\n",
    "        \n",
    "print(\"-----------------------------\")\n",
    "print(\"Data Retrieval Complete      \")\n",
    "print(\"-----------------------------\")"
   ]
  },
  {
   "cell_type": "markdown",
   "metadata": {},
   "source": [
    "### Convert Raw Data to DataFrame\n",
    "* Export the city data into a .csv.\n",
    "* Display the DataFrame"
   ]
  },
  {
   "cell_type": "code",
   "execution_count": 24,
   "metadata": {},
   "outputs": [
    {
     "data": {
      "text/html": [
       "<div>\n",
       "<style scoped>\n",
       "    .dataframe tbody tr th:only-of-type {\n",
       "        vertical-align: middle;\n",
       "    }\n",
       "\n",
       "    .dataframe tbody tr th {\n",
       "        vertical-align: top;\n",
       "    }\n",
       "\n",
       "    .dataframe thead th {\n",
       "        text-align: right;\n",
       "    }\n",
       "</style>\n",
       "<table border=\"1\" class=\"dataframe\">\n",
       "  <thead>\n",
       "    <tr style=\"text-align: right;\">\n",
       "      <th></th>\n",
       "      <th>City</th>\n",
       "      <th>Lat</th>\n",
       "      <th>Lng</th>\n",
       "      <th>Max Temp</th>\n",
       "      <th>Humidity</th>\n",
       "      <th>Cloudiness</th>\n",
       "      <th>Wind Speed</th>\n",
       "      <th>Date</th>\n",
       "    </tr>\n",
       "  </thead>\n",
       "  <tbody>\n",
       "    <tr>\n",
       "      <th>0</th>\n",
       "      <td>Chokurdakh</td>\n",
       "      <td>70.6333</td>\n",
       "      <td>147.9167</td>\n",
       "      <td>39.00</td>\n",
       "      <td>71</td>\n",
       "      <td>18</td>\n",
       "      <td>7.65</td>\n",
       "      <td>1627850165</td>\n",
       "    </tr>\n",
       "    <tr>\n",
       "      <th>1</th>\n",
       "      <td>Krasnyy Yar</td>\n",
       "      <td>46.5331</td>\n",
       "      <td>48.3456</td>\n",
       "      <td>76.93</td>\n",
       "      <td>55</td>\n",
       "      <td>17</td>\n",
       "      <td>5.12</td>\n",
       "      <td>1627850166</td>\n",
       "    </tr>\n",
       "    <tr>\n",
       "      <th>2</th>\n",
       "      <td>Inuvik</td>\n",
       "      <td>68.3499</td>\n",
       "      <td>-133.7218</td>\n",
       "      <td>85.06</td>\n",
       "      <td>29</td>\n",
       "      <td>40</td>\n",
       "      <td>10.36</td>\n",
       "      <td>1627850166</td>\n",
       "    </tr>\n",
       "    <tr>\n",
       "      <th>3</th>\n",
       "      <td>Vaini</td>\n",
       "      <td>-21.2000</td>\n",
       "      <td>-175.2000</td>\n",
       "      <td>71.76</td>\n",
       "      <td>83</td>\n",
       "      <td>20</td>\n",
       "      <td>21.85</td>\n",
       "      <td>1627849936</td>\n",
       "    </tr>\n",
       "    <tr>\n",
       "      <th>4</th>\n",
       "      <td>Rome</td>\n",
       "      <td>43.2128</td>\n",
       "      <td>-75.4557</td>\n",
       "      <td>66.06</td>\n",
       "      <td>93</td>\n",
       "      <td>75</td>\n",
       "      <td>0.00</td>\n",
       "      <td>1627850043</td>\n",
       "    </tr>\n",
       "  </tbody>\n",
       "</table>\n",
       "</div>"
      ],
      "text/plain": [
       "          City      Lat       Lng  Max Temp  Humidity  Cloudiness  Wind Speed  \\\n",
       "0   Chokurdakh  70.6333  147.9167     39.00        71          18        7.65   \n",
       "1  Krasnyy Yar  46.5331   48.3456     76.93        55          17        5.12   \n",
       "2       Inuvik  68.3499 -133.7218     85.06        29          40       10.36   \n",
       "3        Vaini -21.2000 -175.2000     71.76        83          20       21.85   \n",
       "4         Rome  43.2128  -75.4557     66.06        93          75        0.00   \n",
       "\n",
       "         Date  \n",
       "0  1627850165  \n",
       "1  1627850166  \n",
       "2  1627850166  \n",
       "3  1627849936  \n",
       "4  1627850043  "
      ]
     },
     "execution_count": 24,
     "metadata": {},
     "output_type": "execute_result"
    }
   ],
   "source": [
    "# we create the dataframe using the lists we made in the previous step\n",
    "cities_df = pd.DataFrame({\n",
    "    \"City\": city_list,\n",
    "    \"Lat\": lat,\n",
    "    \"Lng\": lng,\n",
    "    \"Max Temp\": max_temp,\n",
    "    \"Humidity\": humidity,\n",
    "    \"Cloudiness\": cloudiness,\n",
    "    \"Wind Speed\": wind_speed,\n",
    "    \"Date\": date\n",
    "})\n",
    "\n",
    "cities_df.head()"
   ]
  },
  {
   "cell_type": "code",
   "execution_count": 28,
   "metadata": {},
   "outputs": [],
   "source": [
    "cities_df.to_csv(\"Output/cities_df.csv\", index=False, header=True)"
   ]
  },
  {
   "cell_type": "markdown",
   "metadata": {},
   "source": [
    "## Inspect the data and remove the cities where the humidity > 100%.\n",
    "----\n",
    "Skip this step if there are no cities that have humidity > 100%. "
   ]
  },
  {
   "cell_type": "code",
   "execution_count": 29,
   "metadata": {},
   "outputs": [
    {
     "data": {
      "text/html": [
       "<div>\n",
       "<style scoped>\n",
       "    .dataframe tbody tr th:only-of-type {\n",
       "        vertical-align: middle;\n",
       "    }\n",
       "\n",
       "    .dataframe tbody tr th {\n",
       "        vertical-align: top;\n",
       "    }\n",
       "\n",
       "    .dataframe thead th {\n",
       "        text-align: right;\n",
       "    }\n",
       "</style>\n",
       "<table border=\"1\" class=\"dataframe\">\n",
       "  <thead>\n",
       "    <tr style=\"text-align: right;\">\n",
       "      <th></th>\n",
       "      <th>Lat</th>\n",
       "      <th>Lng</th>\n",
       "      <th>Max Temp</th>\n",
       "      <th>Humidity</th>\n",
       "      <th>Cloudiness</th>\n",
       "      <th>Wind Speed</th>\n",
       "      <th>Date</th>\n",
       "    </tr>\n",
       "  </thead>\n",
       "  <tbody>\n",
       "    <tr>\n",
       "      <th>count</th>\n",
       "      <td>539.000000</td>\n",
       "      <td>539.000000</td>\n",
       "      <td>539.000000</td>\n",
       "      <td>539.000000</td>\n",
       "      <td>539.000000</td>\n",
       "      <td>539.000000</td>\n",
       "      <td>5.390000e+02</td>\n",
       "    </tr>\n",
       "    <tr>\n",
       "      <th>mean</th>\n",
       "      <td>21.756466</td>\n",
       "      <td>18.073205</td>\n",
       "      <td>68.963711</td>\n",
       "      <td>70.419295</td>\n",
       "      <td>52.150278</td>\n",
       "      <td>7.810260</td>\n",
       "      <td>1.627850e+09</td>\n",
       "    </tr>\n",
       "    <tr>\n",
       "      <th>std</th>\n",
       "      <td>33.686116</td>\n",
       "      <td>90.203306</td>\n",
       "      <td>13.784294</td>\n",
       "      <td>21.431105</td>\n",
       "      <td>38.976373</td>\n",
       "      <td>5.430699</td>\n",
       "      <td>2.581664e+02</td>\n",
       "    </tr>\n",
       "    <tr>\n",
       "      <th>min</th>\n",
       "      <td>-54.800000</td>\n",
       "      <td>-175.200000</td>\n",
       "      <td>33.150000</td>\n",
       "      <td>10.000000</td>\n",
       "      <td>0.000000</td>\n",
       "      <td>0.000000</td>\n",
       "      <td>1.627850e+09</td>\n",
       "    </tr>\n",
       "    <tr>\n",
       "      <th>25%</th>\n",
       "      <td>-5.553550</td>\n",
       "      <td>-64.350450</td>\n",
       "      <td>58.575000</td>\n",
       "      <td>59.000000</td>\n",
       "      <td>11.000000</td>\n",
       "      <td>3.880000</td>\n",
       "      <td>1.627850e+09</td>\n",
       "    </tr>\n",
       "    <tr>\n",
       "      <th>50%</th>\n",
       "      <td>27.850000</td>\n",
       "      <td>25.570100</td>\n",
       "      <td>70.250000</td>\n",
       "      <td>75.000000</td>\n",
       "      <td>51.000000</td>\n",
       "      <td>6.330000</td>\n",
       "      <td>1.627850e+09</td>\n",
       "    </tr>\n",
       "    <tr>\n",
       "      <th>75%</th>\n",
       "      <td>50.575200</td>\n",
       "      <td>95.641650</td>\n",
       "      <td>78.530000</td>\n",
       "      <td>88.000000</td>\n",
       "      <td>92.000000</td>\n",
       "      <td>10.360000</td>\n",
       "      <td>1.627851e+09</td>\n",
       "    </tr>\n",
       "    <tr>\n",
       "      <th>max</th>\n",
       "      <td>78.218600</td>\n",
       "      <td>179.316700</td>\n",
       "      <td>107.110000</td>\n",
       "      <td>100.000000</td>\n",
       "      <td>100.000000</td>\n",
       "      <td>29.930000</td>\n",
       "      <td>1.627851e+09</td>\n",
       "    </tr>\n",
       "  </tbody>\n",
       "</table>\n",
       "</div>"
      ],
      "text/plain": [
       "              Lat         Lng    Max Temp    Humidity  Cloudiness  Wind Speed  \\\n",
       "count  539.000000  539.000000  539.000000  539.000000  539.000000  539.000000   \n",
       "mean    21.756466   18.073205   68.963711   70.419295   52.150278    7.810260   \n",
       "std     33.686116   90.203306   13.784294   21.431105   38.976373    5.430699   \n",
       "min    -54.800000 -175.200000   33.150000   10.000000    0.000000    0.000000   \n",
       "25%     -5.553550  -64.350450   58.575000   59.000000   11.000000    3.880000   \n",
       "50%     27.850000   25.570100   70.250000   75.000000   51.000000    6.330000   \n",
       "75%     50.575200   95.641650   78.530000   88.000000   92.000000   10.360000   \n",
       "max     78.218600  179.316700  107.110000  100.000000  100.000000   29.930000   \n",
       "\n",
       "               Date  \n",
       "count  5.390000e+02  \n",
       "mean   1.627850e+09  \n",
       "std    2.581664e+02  \n",
       "min    1.627850e+09  \n",
       "25%    1.627850e+09  \n",
       "50%    1.627850e+09  \n",
       "75%    1.627851e+09  \n",
       "max    1.627851e+09  "
      ]
     },
     "execution_count": 29,
     "metadata": {},
     "output_type": "execute_result"
    }
   ],
   "source": [
    "# To inspect the data, we use the describe function\n",
    "\n",
    "cities_df.describe()"
   ]
  },
  {
   "cell_type": "code",
   "execution_count": 36,
   "metadata": {},
   "outputs": [],
   "source": [
    "#  Get the indices of cities that have humidity over 100%.\n",
    "filter_humidity = cities_pd[(cities_pd[\"Humidity\"] > 100)].index"
   ]
  },
  {
   "cell_type": "code",
   "execution_count": 37,
   "metadata": {},
   "outputs": [
    {
     "data": {
      "text/html": [
       "<div>\n",
       "<style scoped>\n",
       "    .dataframe tbody tr th:only-of-type {\n",
       "        vertical-align: middle;\n",
       "    }\n",
       "\n",
       "    .dataframe tbody tr th {\n",
       "        vertical-align: top;\n",
       "    }\n",
       "\n",
       "    .dataframe thead th {\n",
       "        text-align: right;\n",
       "    }\n",
       "</style>\n",
       "<table border=\"1\" class=\"dataframe\">\n",
       "  <thead>\n",
       "    <tr style=\"text-align: right;\">\n",
       "      <th></th>\n",
       "      <th>City</th>\n",
       "      <th>Lat</th>\n",
       "      <th>Lng</th>\n",
       "      <th>Max Temp</th>\n",
       "      <th>Humidity</th>\n",
       "      <th>Cloudiness</th>\n",
       "      <th>Wind Speed</th>\n",
       "      <th>Date</th>\n",
       "    </tr>\n",
       "  </thead>\n",
       "  <tbody>\n",
       "    <tr>\n",
       "      <th>0</th>\n",
       "      <td>Chokurdakh</td>\n",
       "      <td>70.6333</td>\n",
       "      <td>147.9167</td>\n",
       "      <td>39.00</td>\n",
       "      <td>71</td>\n",
       "      <td>18</td>\n",
       "      <td>7.65</td>\n",
       "      <td>1627850165</td>\n",
       "    </tr>\n",
       "    <tr>\n",
       "      <th>1</th>\n",
       "      <td>Krasnyy Yar</td>\n",
       "      <td>46.5331</td>\n",
       "      <td>48.3456</td>\n",
       "      <td>76.93</td>\n",
       "      <td>55</td>\n",
       "      <td>17</td>\n",
       "      <td>5.12</td>\n",
       "      <td>1627850166</td>\n",
       "    </tr>\n",
       "    <tr>\n",
       "      <th>2</th>\n",
       "      <td>Inuvik</td>\n",
       "      <td>68.3499</td>\n",
       "      <td>-133.7218</td>\n",
       "      <td>85.06</td>\n",
       "      <td>29</td>\n",
       "      <td>40</td>\n",
       "      <td>10.36</td>\n",
       "      <td>1627850166</td>\n",
       "    </tr>\n",
       "    <tr>\n",
       "      <th>3</th>\n",
       "      <td>Vaini</td>\n",
       "      <td>-21.2000</td>\n",
       "      <td>-175.2000</td>\n",
       "      <td>71.76</td>\n",
       "      <td>83</td>\n",
       "      <td>20</td>\n",
       "      <td>21.85</td>\n",
       "      <td>1627849936</td>\n",
       "    </tr>\n",
       "    <tr>\n",
       "      <th>4</th>\n",
       "      <td>Rome</td>\n",
       "      <td>43.2128</td>\n",
       "      <td>-75.4557</td>\n",
       "      <td>66.06</td>\n",
       "      <td>93</td>\n",
       "      <td>75</td>\n",
       "      <td>0.00</td>\n",
       "      <td>1627850043</td>\n",
       "    </tr>\n",
       "    <tr>\n",
       "      <th>...</th>\n",
       "      <td>...</td>\n",
       "      <td>...</td>\n",
       "      <td>...</td>\n",
       "      <td>...</td>\n",
       "      <td>...</td>\n",
       "      <td>...</td>\n",
       "      <td>...</td>\n",
       "      <td>...</td>\n",
       "    </tr>\n",
       "    <tr>\n",
       "      <th>534</th>\n",
       "      <td>Eišiškės</td>\n",
       "      <td>54.1667</td>\n",
       "      <td>25.0000</td>\n",
       "      <td>64.18</td>\n",
       "      <td>97</td>\n",
       "      <td>98</td>\n",
       "      <td>6.62</td>\n",
       "      <td>1627850784</td>\n",
       "    </tr>\n",
       "    <tr>\n",
       "      <th>535</th>\n",
       "      <td>Luleå</td>\n",
       "      <td>65.5842</td>\n",
       "      <td>22.1547</td>\n",
       "      <td>55.47</td>\n",
       "      <td>76</td>\n",
       "      <td>0</td>\n",
       "      <td>9.22</td>\n",
       "      <td>1627850784</td>\n",
       "    </tr>\n",
       "    <tr>\n",
       "      <th>536</th>\n",
       "      <td>Valparaíso</td>\n",
       "      <td>-33.0393</td>\n",
       "      <td>-71.6273</td>\n",
       "      <td>84.43</td>\n",
       "      <td>29</td>\n",
       "      <td>0</td>\n",
       "      <td>16.11</td>\n",
       "      <td>1627850529</td>\n",
       "    </tr>\n",
       "    <tr>\n",
       "      <th>537</th>\n",
       "      <td>Caramay</td>\n",
       "      <td>10.1815</td>\n",
       "      <td>119.2360</td>\n",
       "      <td>79.07</td>\n",
       "      <td>82</td>\n",
       "      <td>78</td>\n",
       "      <td>4.27</td>\n",
       "      <td>1627850785</td>\n",
       "    </tr>\n",
       "    <tr>\n",
       "      <th>538</th>\n",
       "      <td>Mhango</td>\n",
       "      <td>-3.2833</td>\n",
       "      <td>32.8500</td>\n",
       "      <td>67.03</td>\n",
       "      <td>43</td>\n",
       "      <td>5</td>\n",
       "      <td>4.70</td>\n",
       "      <td>1627850786</td>\n",
       "    </tr>\n",
       "  </tbody>\n",
       "</table>\n",
       "<p>539 rows × 8 columns</p>\n",
       "</div>"
      ],
      "text/plain": [
       "            City      Lat       Lng  Max Temp  Humidity  Cloudiness  \\\n",
       "0     Chokurdakh  70.6333  147.9167     39.00        71          18   \n",
       "1    Krasnyy Yar  46.5331   48.3456     76.93        55          17   \n",
       "2         Inuvik  68.3499 -133.7218     85.06        29          40   \n",
       "3          Vaini -21.2000 -175.2000     71.76        83          20   \n",
       "4           Rome  43.2128  -75.4557     66.06        93          75   \n",
       "..           ...      ...       ...       ...       ...         ...   \n",
       "534     Eišiškės  54.1667   25.0000     64.18        97          98   \n",
       "535        Luleå  65.5842   22.1547     55.47        76           0   \n",
       "536   Valparaíso -33.0393  -71.6273     84.43        29           0   \n",
       "537      Caramay  10.1815  119.2360     79.07        82          78   \n",
       "538       Mhango  -3.2833   32.8500     67.03        43           5   \n",
       "\n",
       "     Wind Speed        Date  \n",
       "0          7.65  1627850165  \n",
       "1          5.12  1627850166  \n",
       "2         10.36  1627850166  \n",
       "3         21.85  1627849936  \n",
       "4          0.00  1627850043  \n",
       "..          ...         ...  \n",
       "534        6.62  1627850784  \n",
       "535        9.22  1627850784  \n",
       "536       16.11  1627850529  \n",
       "537        4.27  1627850785  \n",
       "538        4.70  1627850786  \n",
       "\n",
       "[539 rows x 8 columns]"
      ]
     },
     "execution_count": 37,
     "metadata": {},
     "output_type": "execute_result"
    }
   ],
   "source": [
    "# Make a new DataFrame equal to the city data to drop all humidity outliers by index.\n",
    "# Passing \"inplace=False\" will make a copy of the city_data DataFrame, which we call \"clean_city_data\".\n",
    "new_cities = cities_pd.drop(index=filter_humidity)\n",
    "new_cities"
   ]
  },
  {
   "cell_type": "markdown",
   "metadata": {},
   "source": [
    "## Plotting the Data\n",
    "* Use proper labeling of the plots using plot titles (including date of analysis) and axes labels.\n",
    "* Save the plotted figures as .pngs.\n"
   ]
  },
  {
   "cell_type": "markdown",
   "metadata": {},
   "source": [
    "## Latitude vs. Temperature Plot"
   ]
  },
  {
   "cell_type": "code",
   "execution_count": 49,
   "metadata": {
    "scrolled": true
   },
   "outputs": [
    {
     "name": "stdout",
     "output_type": "stream",
     "text": [
      "R squared: 0.0003489111396232737\n"
     ]
    },
    {
     "data": {
      "image/png": "[encoded data removed]",
      "text/plain": [
       "<Figure size 432x288 with 1 Axes>"
      ]
     },
     "metadata": {
      "needs_background": "light"
     },
     "output_type": "display_data"
    },
    {
     "data": {
      "text/plain": [
       "<Figure size 432x288 with 0 Axes>"
      ]
     },
     "metadata": {},
     "output_type": "display_data"
    }
   ],
   "source": [
    "# We convert to floats and store Latitude and Temperature as x and y values\n",
    "x_values = new_cities['Lat'].astype('float')\n",
    "y_values = new_cities['Max Temp'].astype('float')\n",
    "\n",
    "# Now we run linear regression with the converted values\n",
    "(slope, intercept, rvalue, pvalue, stderr) = linregress(x_values, y_values)\n",
    "regress_values = x_values * slope + intercept\n",
    "line_eq = \"y = \" + str(round(slope,2)) + \"x + \" + str(round(intercept,2))\n",
    "\n",
    "# We plot scatter plot\n",
    "plt.scatter(x_values,y_values)\n",
    "\n",
    "# We create the regression line\n",
    "plt.plot(x_values,regress_values,\"r-\")\n",
    "plt.annotate(line_eq,(6,10),fontsize=15,color=\"blue\")\n",
    "\n",
    "# We add the labels\n",
    "plt.title(\"Latitude vs. Max Temperature\")\n",
    "plt.xlabel('Latitude')\n",
    "plt.ylabel('Max Temp')\n",
    "\n",
    "# We print r square value\n",
    "print(f\"R squared: {rvalue**2}\")\n",
    "\n",
    "# We show our plot\n",
    "plt.show()\n",
    "\n",
    "# We save the plot \n",
    "plt.savefig(\"Plots/LatitudevsMaxTemperature.png\")"
   ]
  },
  {
   "cell_type": "markdown",
   "metadata": {},
   "source": [
    "## Latitude vs. Humidity Plot"
   ]
  },
  {
   "cell_type": "code",
   "execution_count": 50,
   "metadata": {},
   "outputs": [
    {
     "name": "stdout",
     "output_type": "stream",
     "text": [
      "R squared: 0.003698012623211857\n"
     ]
    },
    {
     "data": {
      "image/png": "[encoded data removed]",
      "text/plain": [
       "<Figure size 432x288 with 1 Axes>"
      ]
     },
     "metadata": {
      "needs_background": "light"
     },
     "output_type": "display_data"
    },
    {
     "data": {
      "text/plain": [
       "<Figure size 432x288 with 0 Axes>"
      ]
     },
     "metadata": {},
     "output_type": "display_data"
    }
   ],
   "source": [
    "# We repeat the previous step with the new variables.\n",
    "\n",
    "x_values = new_cities['Lat'].astype('float')\n",
    "y_values = new_cities['Humidity'].astype('float')\n",
    "\n",
    "(slope, intercept, rvalue, pvalue, stderr) = linregress(x_values, y_values)\n",
    "regress_values = x_values * slope + intercept\n",
    "line_eq = \"y = \" + str(round(slope,2)) + \"x + \" + str(round(intercept,2))\n",
    "\n",
    "plt.scatter(x_values,y_values)\n",
    "\n",
    "plt.plot(x_values,regress_values,\"r-\")\n",
    "plt.annotate(line_eq,(6,10),fontsize=15,color=\"blue\")\n",
    "\n",
    "plt.title(\"Latitude vs. Humidity\")\n",
    "plt.xlabel('Latitude')\n",
    "plt.ylabel('Humidity')\n",
    "\n",
    "print(f\"R squared: {rvalue**2}\")\n",
    "\n",
    "plt.show()\n",
    "plt.savefig(\"Plots/LatitudevsHumidity.png\")"
   ]
  },
  {
   "cell_type": "markdown",
   "metadata": {},
   "source": [
    "## Latitude vs. Cloudiness Plot"
   ]
  },
  {
   "cell_type": "code",
   "execution_count": 51,
   "metadata": {},
   "outputs": [
    {
     "name": "stdout",
     "output_type": "stream",
     "text": [
      "R squared: 0.029042064040107906\n"
     ]
    },
    {
     "data": {
      "image/png": "[encoded data removed]",
      "text/plain": [
       "<Figure size 432x288 with 1 Axes>"
      ]
     },
     "metadata": {
      "needs_background": "light"
     },
     "output_type": "display_data"
    },
    {
     "data": {
      "text/plain": [
       "<Figure size 432x288 with 0 Axes>"
      ]
     },
     "metadata": {},
     "output_type": "display_data"
    }
   ],
   "source": [
    "\n",
    "x_values = new_cities['Lat'].astype('float')\n",
    "y_values = new_cities['Cloudiness'].astype('float')\n",
    "\n",
    "(slope, intercept, rvalue, pvalue, stderr) = linregress(x_values, y_values)\n",
    "regress_values = x_values * slope + intercept\n",
    "line_eq = \"y = \" + str(round(slope,2)) + \"x + \" + str(round(intercept,2))\n",
    "\n",
    "plt.scatter(x_values,y_values)\n",
    "\n",
    "plt.plot(x_values,regress_values,\"r-\")\n",
    "plt.annotate(line_eq,(6,10),fontsize=15,color=\"blue\")\n",
    "\n",
    "plt.title(\"Latitude vs. Cloudiness\")\n",
    "plt.xlabel('Latitude')\n",
    "plt.ylabel('Cloudiness')\n",
    "\n",
    "print(f\"R squared: {rvalue**2}\")\n",
    "\n",
    "plt.show()\n",
    "plt.savefig(\"Plots/LatitudevsCloudiness.png\")"
   ]
  },
  {
   "cell_type": "markdown",
   "metadata": {},
   "source": [
    "## Latitude vs. Wind Speed Plot"
   ]
  },
  {
   "cell_type": "code",
   "execution_count": 52,
   "metadata": {},
   "outputs": [
    {
     "name": "stdout",
     "output_type": "stream",
     "text": [
      "R squared: 0.016513547895976505\n"
     ]
    },
    {
     "data": {
      "image/png": "[encoded data removed]",
      "text/plain": [
       "<Figure size 432x288 with 1 Axes>"
      ]
     },
     "metadata": {
      "needs_background": "light"
     },
     "output_type": "display_data"
    },
    {
     "data": {
      "text/plain": [
       "<Figure size 432x288 with 0 Axes>"
      ]
     },
     "metadata": {},
     "output_type": "display_data"
    }
   ],
   "source": [
    "\n",
    "x_values = new_cities['Lat'].astype('float')\n",
    "y_values = new_cities['Wind Speed'].astype('float')\n",
    "\n",
    "(slope, intercept, rvalue, pvalue, stderr) = linregress(x_values, y_values)\n",
    "regress_values = x_values * slope + intercept\n",
    "line_eq = \"y = \" + str(round(slope,2)) + \"x + \" + str(round(intercept,2))\n",
    "\n",
    "plt.scatter(x_values,y_values)\n",
    "\n",
    "plt.plot(x_values,regress_values,\"r-\")\n",
    "plt.annotate(line_eq,(6,10),fontsize=15,color=\"blue\")\n",
    "\n",
    "plt.title(\"Latitude vs. Wind Speed\")\n",
    "plt.xlabel('Latitude')\n",
    "plt.ylabel('Wind Speed')\n",
    "\n",
    "print(f\"R squared: {rvalue**2}\")\n",
    "\n",
    "plt.show()\n",
    "plt.savefig(\"Plots/LatitudevsWindSpeed.png\")"
   ]
  },
  {
   "cell_type": "markdown",
   "metadata": {},
   "source": [
    "## Linear Regression"
   ]
  },
  {
   "cell_type": "code",
   "execution_count": 42,
   "metadata": {},
   "outputs": [],
   "source": [
    "# The nother and souther hemispheres are divided by the Equator, that is at latitude = 0\n",
    "# So in order to divide our dataframe, we must use lock using 0 as the filter\n",
    "\n",
    "north = new_cities.loc[new_cities[\"Lat\"] > 0]\n",
    "south = new_cities.loc[new_cities[\"Lat\"] < 0]"
   ]
  },
  {
   "cell_type": "markdown",
   "metadata": {},
   "source": [
    "####  Northern Hemisphere - Max Temp vs. Latitude Linear Regression"
   ]
  },
  {
   "cell_type": "code",
   "execution_count": 53,
   "metadata": {},
   "outputs": [
    {
     "name": "stdout",
     "output_type": "stream",
     "text": [
      "R squared: 0.3999331429476298\n"
     ]
    },
    {
     "data": {
      "image/png": "[encoded data removed]",
      "text/plain": [
       "<Figure size 432x288 with 1 Axes>"
      ]
     },
     "metadata": {
      "needs_background": "light"
     },
     "output_type": "display_data"
    },
    {
     "data": {
      "text/plain": [
       "<Figure size 432x288 with 0 Axes>"
      ]
     },
     "metadata": {},
     "output_type": "display_data"
    }
   ],
   "source": [
    "# We follow the same steps as before, but now we use the north and south data \n",
    "\n",
    "x_values = north['Lat'].astype('float')\n",
    "y_values = north['Max Temp'].astype('float')\n",
    "\n",
    "(slope, intercept, rvalue, pvalue, stderr) = linregress(x_values, y_values)\n",
    "regress_values = x_values * slope + intercept\n",
    "line_eq = \"y = \" + str(round(slope,2)) + \"x + \" + str(round(intercept,2))\n",
    "\n",
    "plt.scatter(x_values,y_values)\n",
    "\n",
    "plt.plot(x_values,regress_values,\"r-\")\n",
    "plt.annotate(line_eq,(6,10),fontsize=15,color=\"blue\")\n",
    "\n",
    "plt.title(\"Northern Hemisphere - Max Temp vs. Latitude Linear Regression\")\n",
    "plt.xlabel('Nothern Hemisphere Latitude')\n",
    "plt.ylabel('Nothern Hemisphere Max Temp')\n",
    "\n",
    "print(f\"R squared: {rvalue**2}\")\n",
    "\n",
    "plt.show()\n",
    "plt.savefig(\"Plots/NothernLatitudevsMaxTemperature.png\")"
   ]
  },
  {
   "cell_type": "markdown",
   "metadata": {},
   "source": [
    "####  Southern Hemisphere - Max Temp vs. Latitude Linear Regression"
   ]
  },
  {
   "cell_type": "code",
   "execution_count": 54,
   "metadata": {},
   "outputs": [
    {
     "name": "stdout",
     "output_type": "stream",
     "text": [
      "R squared: 0.5570878323878999\n"
     ]
    },
    {
     "data": {
      "image/png": "[encoded data removed]",
      "text/plain": [
       "<Figure size 432x288 with 1 Axes>"
      ]
     },
     "metadata": {
      "needs_background": "light"
     },
     "output_type": "display_data"
    },
    {
     "data": {
      "text/plain": [
       "<Figure size 432x288 with 0 Axes>"
      ]
     },
     "metadata": {},
     "output_type": "display_data"
    }
   ],
   "source": [
    "\n",
    "x_values = south['Lat'].astype('float')\n",
    "y_values = south['Max Temp'].astype('float')\n",
    "\n",
    "(slope, intercept, rvalue, pvalue, stderr) = linregress(x_values, y_values)\n",
    "regress_values = x_values * slope + intercept\n",
    "line_eq = \"y = \" + str(round(slope,2)) + \"x + \" + str(round(intercept,2))\n",
    "\n",
    "plt.scatter(x_values,y_values)\n",
    "\n",
    "plt.plot(x_values,regress_values,\"r-\")\n",
    "plt.annotate(line_eq,(6,10),fontsize=15,color=\"blue\")\n",
    "\n",
    "plt.title(\"Southern Hemisphere - Max Temp vs. Latitude Linear Regression\")\n",
    "plt.xlabel('Southern Hemisphere Latitude')\n",
    "plt.ylabel('Souther Hemisphere Max Temp')\n",
    "\n",
    "print(f\"R squared: {rvalue**2}\")\n",
    "\n",
    "plt.show()\n",
    "plt.savefig(\"Plots/SouthernLatitudevsMaxTemperature.png\")"
   ]
  },
  {
   "cell_type": "markdown",
   "metadata": {},
   "source": [
    "####  Northern Hemisphere - Humidity (%) vs. Latitude Linear Regression"
   ]
  },
  {
   "cell_type": "code",
   "execution_count": 55,
   "metadata": {},
   "outputs": [
    {
     "name": "stdout",
     "output_type": "stream",
     "text": [
      "R squared: 0.00012069647460164382\n"
     ]
    },
    {
     "data": {
      "image/png": "[encoded data removed]",
      "text/plain": [
       "<Figure size 432x288 with 1 Axes>"
      ]
     },
     "metadata": {
      "needs_background": "light"
     },
     "output_type": "display_data"
    },
    {
     "data": {
      "text/plain": [
       "<Figure size 432x288 with 0 Axes>"
      ]
     },
     "metadata": {},
     "output_type": "display_data"
    }
   ],
   "source": [
    "\n",
    "x_values = north['Lat'].astype('float')\n",
    "y_values = north['Humidity'].astype('float')\n",
    "\n",
    "(slope, intercept, rvalue, pvalue, stderr) = linregress(x_values, y_values)\n",
    "regress_values = x_values * slope + intercept\n",
    "line_eq = \"y = \" + str(round(slope,2)) + \"x + \" + str(round(intercept,2))\n",
    "\n",
    "plt.scatter(x_values,y_values)\n",
    "\n",
    "plt.plot(x_values,regress_values,\"r-\")\n",
    "plt.annotate(line_eq,(6,10),fontsize=15,color=\"blue\")\n",
    "\n",
    "plt.title(\"Northern Hemisphere - Humidity (%) vs. Latitude Linear Regression\")\n",
    "plt.xlabel('Nothern Hemisphere Latitude')\n",
    "plt.ylabel('Nothern Hemisphere Humidity (%)')\n",
    "\n",
    "print(f\"R squared: {rvalue**2}\")\n",
    "\n",
    "plt.show()\n",
    "plt.savefig(\"Plots/NothernLatitudevsHumidity.png\")"
   ]
  },
  {
   "cell_type": "markdown",
   "metadata": {},
   "source": [
    "####  Southern Hemisphere - Humidity (%) vs. Latitude Linear Regression"
   ]
  },
  {
   "cell_type": "code",
   "execution_count": 56,
   "metadata": {},
   "outputs": [
    {
     "name": "stdout",
     "output_type": "stream",
     "text": [
      "R squared: 0.010883222517113645\n"
     ]
    },
    {
     "data": {
      "image/png": "[encoded data removed]",
      "text/plain": [
       "<Figure size 432x288 with 1 Axes>"
      ]
     },
     "metadata": {
      "needs_background": "light"
     },
     "output_type": "display_data"
    },
    {
     "data": {
      "text/plain": [
       "<Figure size 432x288 with 0 Axes>"
      ]
     },
     "metadata": {},
     "output_type": "display_data"
    }
   ],
   "source": [
    "\n",
    "x_values = south['Lat'].astype('float')\n",
    "y_values = south['Humidity'].astype('float')\n",
    "\n",
    "(slope, intercept, rvalue, pvalue, stderr) = linregress(x_values, y_values)\n",
    "regress_values = x_values * slope + intercept\n",
    "line_eq = \"y = \" + str(round(slope,2)) + \"x + \" + str(round(intercept,2))\n",
    "\n",
    "plt.scatter(x_values,y_values)\n",
    "\n",
    "plt.plot(x_values,regress_values,\"r-\")\n",
    "plt.annotate(line_eq,(6,10),fontsize=15,color=\"blue\")\n",
    "\n",
    "plt.title(\"Southern Hemisphere - Humidity (%) vs. Latitude Linear Regression\")\n",
    "plt.xlabel('Southern Hemisphere Latitude')\n",
    "plt.ylabel('Souther Hemispherere Humidity (%)')\n",
    "\n",
    "print(f\"R squared: {rvalue**2}\")\n",
    "\n",
    "plt.show()\n",
    "plt.savefig(\"Plots/SouthenLatitudevsHumidity.png\")"
   ]
  },
  {
   "cell_type": "markdown",
   "metadata": {},
   "source": [
    "####  Northern Hemisphere - Cloudiness (%) vs. Latitude Linear Regression"
   ]
  },
  {
   "cell_type": "code",
   "execution_count": 57,
   "metadata": {},
   "outputs": [
    {
     "name": "stdout",
     "output_type": "stream",
     "text": [
      "R squared: 0.0015865450416357955\n"
     ]
    },
    {
     "data": {
      "image/png": "[encoded data removed]",
      "text/plain": [
       "<Figure size 432x288 with 1 Axes>"
      ]
     },
     "metadata": {
      "needs_background": "light"
     },
     "output_type": "display_data"
    },
    {
     "data": {
      "text/plain": [
       "<Figure size 432x288 with 0 Axes>"
      ]
     },
     "metadata": {},
     "output_type": "display_data"
    }
   ],
   "source": [
    "\n",
    "x_values = north['Lat'].astype('float')\n",
    "y_values = north['Cloudiness'].astype('float')\n",
    "\n",
    "(slope, intercept, rvalue, pvalue, stderr) = linregress(x_values, y_values)\n",
    "regress_values = x_values * slope + intercept\n",
    "line_eq = \"y = \" + str(round(slope,2)) + \"x + \" + str(round(intercept,2))\n",
    "\n",
    "plt.scatter(x_values,y_values)\n",
    "\n",
    "plt.plot(x_values,regress_values,\"r-\")\n",
    "plt.annotate(line_eq,(6,10),fontsize=15,color=\"blue\")\n",
    "\n",
    "plt.title(\"Northern Hemisphere - Cloudiness (%) vs. Latitude Linear Regression\")\n",
    "plt.xlabel('Nothern Hemisphere Latitude')\n",
    "plt.ylabel('Nothern Hemisphere Cloudiness (%)')\n",
    "\n",
    "print(f\"R squared: {rvalue**2}\")\n",
    "\n",
    "plt.show()\n",
    "plt.savefig(\"Plots/NothernLatitudevsCloudiness.png\")"
   ]
  },
  {
   "cell_type": "markdown",
   "metadata": {},
   "source": [
    "####  Southern Hemisphere - Cloudiness (%) vs. Latitude Linear Regression"
   ]
  },
  {
   "cell_type": "code",
   "execution_count": 58,
   "metadata": {},
   "outputs": [
    {
     "name": "stdout",
     "output_type": "stream",
     "text": [
      "R squared: 0.0184260438282372\n"
     ]
    },
    {
     "data": {
      "image/png": "[encoded data removed]",
      "text/plain": [
       "<Figure size 432x288 with 1 Axes>"
      ]
     },
     "metadata": {
      "needs_background": "light"
     },
     "output_type": "display_data"
    },
    {
     "data": {
      "text/plain": [
       "<Figure size 432x288 with 0 Axes>"
      ]
     },
     "metadata": {},
     "output_type": "display_data"
    }
   ],
   "source": [
    "\n",
    "x_values = south['Lat'].astype('float')\n",
    "y_values = south['Cloudiness'].astype('float')\n",
    "\n",
    "(slope, intercept, rvalue, pvalue, stderr) = linregress(x_values, y_values)\n",
    "regress_values = x_values * slope + intercept\n",
    "line_eq = \"y = \" + str(round(slope,2)) + \"x + \" + str(round(intercept,2))\n",
    "\n",
    "plt.scatter(x_values,y_values)\n",
    "\n",
    "plt.plot(x_values,regress_values,\"r-\")\n",
    "plt.annotate(line_eq,(6,10),fontsize=15,color=\"blue\")\n",
    "\n",
    "plt.title(\"Southern Hemisphere - Cloudiness (%) vs. Latitude Linear Regression\")\n",
    "plt.xlabel('Southern Hemisphere Latitude')\n",
    "plt.ylabel('Souther Hemisphere Cloudiness')\n",
    "\n",
    "print(f\"R squared: {rvalue**2}\")\n",
    "\n",
    "plt.show()\n",
    "plt.savefig(\"Plots/SouthernLatitudevsCloudiness.png\")"
   ]
  },
  {
   "cell_type": "markdown",
   "metadata": {},
   "source": [
    "####  Northern Hemisphere - Wind Speed (mph) vs. Latitude Linear Regression"
   ]
  },
  {
   "cell_type": "code",
   "execution_count": 59,
   "metadata": {},
   "outputs": [
    {
     "name": "stdout",
     "output_type": "stream",
     "text": [
      "R squared: 0.013011530752246451\n"
     ]
    },
    {
     "data": {
      "image/png": "[encoded data removed]",
      "text/plain": [
       "<Figure size 432x288 with 1 Axes>"
      ]
     },
     "metadata": {
      "needs_background": "light"
     },
     "output_type": "display_data"
    },
    {
     "data": {
      "text/plain": [
       "<Figure size 432x288 with 0 Axes>"
      ]
     },
     "metadata": {},
     "output_type": "display_data"
    }
   ],
   "source": [
    "\n",
    "x_values = north['Lat'].astype('float')\n",
    "y_values = north['Wind Speed'].astype('float')\n",
    "\n",
    "(slope, intercept, rvalue, pvalue, stderr) = linregress(x_values, y_values)\n",
    "regress_values = x_values * slope + intercept\n",
    "line_eq = \"y = \" + str(round(slope,2)) + \"x + \" + str(round(intercept,2))\n",
    "\n",
    "plt.scatter(x_values,y_values)\n",
    "\n",
    "plt.plot(x_values,regress_values,\"r-\")\n",
    "plt.annotate(line_eq,(6,10),fontsize=15,color=\"blue\")\n",
    "\n",
    "plt.title(\"Northern Hemisphere - Wind Speed (mph) vs. Latitude Linear Regression\")\n",
    "plt.xlabel('Nothern Hemisphere Latitude')\n",
    "plt.ylabel('Nothern Hemisphere Wind Speed (mph)')\n",
    "\n",
    "print(f\"R squared: {rvalue**2}\")\n",
    "\n",
    "plt.show()\n",
    "plt.savefig(\"Plots/NothernLatitudevsWindSpeed.png\")"
   ]
  },
  {
   "cell_type": "markdown",
   "metadata": {},
   "source": [
    "####  Southern Hemisphere - Wind Speed (mph) vs. Latitude Linear Regression"
   ]
  },
  {
   "cell_type": "code",
   "execution_count": 60,
   "metadata": {},
   "outputs": [
    {
     "name": "stdout",
     "output_type": "stream",
     "text": [
      "R squared: 0.025230304455201132\n"
     ]
    },
    {
     "data": {
      "image/png": "[encoded data removed]",
      "text/plain": [
       "<Figure size 432x288 with 1 Axes>"
      ]
     },
     "metadata": {
      "needs_background": "light"
     },
     "output_type": "display_data"
    },
    {
     "data": {
      "text/plain": [
       "<Figure size 432x288 with 0 Axes>"
      ]
     },
     "metadata": {},
     "output_type": "display_data"
    }
   ],
   "source": [
    "\n",
    "x_values = south['Lat'].astype('float')\n",
    "y_values = south['Wind Speed'].astype('float')\n",
    "\n",
    "(slope, intercept, rvalue, pvalue, stderr) = linregress(x_values, y_values)\n",
    "regress_values = x_values * slope + intercept\n",
    "line_eq = \"y = \" + str(round(slope,2)) + \"x + \" + str(round(intercept,2))\n",
    "\n",
    "plt.scatter(x_values,y_values)\n",
    "\n",
    "plt.plot(x_values,regress_values,\"r-\")\n",
    "plt.annotate(line_eq,(6,10),fontsize=15,color=\"blue\")\n",
    "\n",
    "plt.title(\"Southern Hemisphere - Wind Speed (mph) vs. Latitude Linear Regression\")\n",
    "plt.xlabel('Southern Hemisphere Latitude')\n",
    "plt.ylabel('Souther Hemisphere Wind Speed (mph)')\n",
    "\n",
    "print(f\"R squared: {rvalue**2}\")\n",
    "\n",
    "plt.show()\n",
    "\n",
    "plt.savefig(\"Plots/SouthernLatitudevsWindSpeed.png\")"
   ]
  },
  {
   "cell_type": "code",
   "execution_count": null,
   "metadata": {},
   "outputs": [],
   "source": []
  }
 ],
 "metadata": {
  "anaconda-cloud": {},
  "kernel_info": {
   "name": "python3"
  },
  "kernelspec": {
   "display_name": "Python 3",
   "language": "python",
   "name": "python3"
  },
  "language_info": {
   "codemirror_mode": {
    "name": "ipython",
    "version": 3
   },
   "file_extension": ".py",
   "mimetype": "text/x-python",
   "name": "python",
   "nbconvert_exporter": "python",
   "pygments_lexer": "ipython3",
   "version": "3.8.5"
  },
  "latex_envs": {
   "LaTeX_envs_menu_present": true,
   "autoclose": false,
   "autocomplete": true,
   "bibliofile": "biblio.bib",
   "cite_by": "apalike",
   "current_citInitial": 1,
   "eqLabelWithNumbers": true,
   "eqNumInitial": 1,
   "hotkeys": {
    "equation": "Ctrl-E",
    "itemize": "Ctrl-I"
   },
   "labels_anchors": false,
   "latex_user_defs": false,
   "report_style_numbering": false,
   "user_envs_cfg": false
  },
  "nteract": {
   "version": "0.12.3"
  }
 },
 "nbformat": 4,
 "nbformat_minor": 2
}
